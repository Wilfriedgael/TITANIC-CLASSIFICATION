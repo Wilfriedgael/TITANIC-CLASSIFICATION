{
 "cells": [
  {
   "cell_type": "code",
   "execution_count": 1,
   "id": "65261f17",
   "metadata": {
    "_cell_guid": "b1076dfc-b9ad-4769-8c92-a6c4dae69d19",
    "_uuid": "8f2839f25d086af736a60e9eeb907d3b93b6e0e5",
    "execution": {
     "iopub.execute_input": "2022-04-28T16:53:51.132909Z",
     "iopub.status.busy": "2022-04-28T16:53:51.132052Z",
     "iopub.status.idle": "2022-04-28T16:53:51.145405Z",
     "shell.execute_reply": "2022-04-28T16:53:51.144764Z"
    },
    "papermill": {
     "duration": 0.069368,
     "end_time": "2022-04-28T16:53:51.148070",
     "exception": false,
     "start_time": "2022-04-28T16:53:51.078702",
     "status": "completed"
    },
    "tags": []
   },
   "outputs": [
    {
     "name": "stdout",
     "output_type": "stream",
     "text": [
      "/kaggle/input/titanic/train.csv\n",
      "/kaggle/input/titanic/test.csv\n",
      "/kaggle/input/titanic/gender_submission.csv\n"
     ]
    }
   ],
   "source": [
    "import numpy as np # linear algebra\n",
    "import pandas as pd # data processing, CSV file I/O (e.g. pd.read_csv)\n",
    "\n",
    "# Input data files are available in the read-only \"../input/\" directory\n",
    "# For example, running this (by clicking run or pressing Shift+Enter) will list all files under the input directory\n",
    "\n",
    "import os\n",
    "for dirname, _, filenames in os.walk('/kaggle/input'):\n",
    "    for filename in filenames:\n",
    "        print(os.path.join(dirname, filename))\n",
    "\n",
    "# You can write up to 20GB to the current directory (/kaggle/working/) that gets preserved as output when you create a version using \"Save & Run All\" \n",
    "# You can also write temporary files to /kaggle/temp/, but they won't be saved outside of the current session"
   ]
  },
  {
   "cell_type": "markdown",
   "id": "5efaf74b",
   "metadata": {
    "papermill": {
     "duration": 0.052742,
     "end_time": "2022-04-28T16:53:51.252576",
     "exception": false,
     "start_time": "2022-04-28T16:53:51.199834",
     "status": "completed"
    },
    "tags": []
   },
   "source": [
    "# **IMPORTING LIBRARIES AND LOADING DATASET**"
   ]
  },
  {
   "cell_type": "markdown",
   "id": "1b92adce",
   "metadata": {
    "papermill": {
     "duration": 0.052257,
     "end_time": "2022-04-28T16:53:51.355747",
     "exception": false,
     "start_time": "2022-04-28T16:53:51.303490",
     "status": "completed"
    },
    "tags": []
   },
   "source": [
    "**IMPORTING LIBRARIES**"
   ]
  },
  {
   "cell_type": "code",
   "execution_count": 2,
   "id": "f04abfc3",
   "metadata": {
    "execution": {
     "iopub.execute_input": "2022-04-28T16:53:51.459019Z",
     "iopub.status.busy": "2022-04-28T16:53:51.458471Z",
     "iopub.status.idle": "2022-04-28T16:53:52.988450Z",
     "shell.execute_reply": "2022-04-28T16:53:52.987687Z"
    },
    "papermill": {
     "duration": 1.584528,
     "end_time": "2022-04-28T16:53:52.990896",
     "exception": false,
     "start_time": "2022-04-28T16:53:51.406368",
     "status": "completed"
    },
    "tags": []
   },
   "outputs": [],
   "source": [
    "import matplotlib.pyplot as plt\n",
    "import seaborn as sns\n",
    "\n",
    "from sklearn.model_selection import train_test_split\n",
    "from sklearn.ensemble import RandomForestClassifier\n",
    "from sklearn.linear_model import LogisticRegression\n",
    "from sklearn.neighbors import KNeighborsClassifier\n",
    "from sklearn import tree,svm\n",
    "from sklearn.metrics import accuracy_score"
   ]
  },
  {
   "cell_type": "markdown",
   "id": "bef17513",
   "metadata": {
    "papermill": {
     "duration": 0.05002,
     "end_time": "2022-04-28T16:53:53.094795",
     "exception": false,
     "start_time": "2022-04-28T16:53:53.044775",
     "status": "completed"
    },
    "tags": []
   },
   "source": [
    "**LOADING DATASET**"
   ]
  },
  {
   "cell_type": "code",
   "execution_count": 3,
   "id": "5b993e5c",
   "metadata": {
    "execution": {
     "iopub.execute_input": "2022-04-28T16:53:53.198066Z",
     "iopub.status.busy": "2022-04-28T16:53:53.197657Z",
     "iopub.status.idle": "2022-04-28T16:53:53.232717Z",
     "shell.execute_reply": "2022-04-28T16:53:53.232090Z"
    },
    "papermill": {
     "duration": 0.089289,
     "end_time": "2022-04-28T16:53:53.234913",
     "exception": false,
     "start_time": "2022-04-28T16:53:53.145624",
     "status": "completed"
    },
    "tags": []
   },
   "outputs": [],
   "source": [
    "train_data = pd.read_csv(\"../input/titanic/train.csv\")\n",
    "test_data = pd.read_csv(\"../input/titanic/test.csv\")"
   ]
  },
  {
   "cell_type": "code",
   "execution_count": 4,
   "id": "a817237e",
   "metadata": {
    "execution": {
     "iopub.execute_input": "2022-04-28T16:53:53.337509Z",
     "iopub.status.busy": "2022-04-28T16:53:53.337060Z",
     "iopub.status.idle": "2022-04-28T16:53:53.363067Z",
     "shell.execute_reply": "2022-04-28T16:53:53.362391Z"
    },
    "papermill": {
     "duration": 0.080135,
     "end_time": "2022-04-28T16:53:53.365237",
     "exception": false,
     "start_time": "2022-04-28T16:53:53.285102",
     "status": "completed"
    },
    "tags": []
   },
   "outputs": [
    {
     "data": {
      "text/html": [
       "<div>\n",
       "<style scoped>\n",
       "    .dataframe tbody tr th:only-of-type {\n",
       "        vertical-align: middle;\n",
       "    }\n",
       "\n",
       "    .dataframe tbody tr th {\n",
       "        vertical-align: top;\n",
       "    }\n",
       "\n",
       "    .dataframe thead th {\n",
       "        text-align: right;\n",
       "    }\n",
       "</style>\n",
       "<table border=\"1\" class=\"dataframe\">\n",
       "  <thead>\n",
       "    <tr style=\"text-align: right;\">\n",
       "      <th></th>\n",
       "      <th>PassengerId</th>\n",
       "      <th>Survived</th>\n",
       "      <th>Pclass</th>\n",
       "      <th>Name</th>\n",
       "      <th>Sex</th>\n",
       "      <th>Age</th>\n",
       "      <th>SibSp</th>\n",
       "      <th>Parch</th>\n",
       "      <th>Ticket</th>\n",
       "      <th>Fare</th>\n",
       "      <th>Cabin</th>\n",
       "      <th>Embarked</th>\n",
       "    </tr>\n",
       "  </thead>\n",
       "  <tbody>\n",
       "    <tr>\n",
       "      <th>0</th>\n",
       "      <td>1</td>\n",
       "      <td>0</td>\n",
       "      <td>3</td>\n",
       "      <td>Braund, Mr. Owen Harris</td>\n",
       "      <td>male</td>\n",
       "      <td>22.0</td>\n",
       "      <td>1</td>\n",
       "      <td>0</td>\n",
       "      <td>A/5 21171</td>\n",
       "      <td>7.2500</td>\n",
       "      <td>NaN</td>\n",
       "      <td>S</td>\n",
       "    </tr>\n",
       "    <tr>\n",
       "      <th>1</th>\n",
       "      <td>2</td>\n",
       "      <td>1</td>\n",
       "      <td>1</td>\n",
       "      <td>Cumings, Mrs. John Bradley (Florence Briggs Th...</td>\n",
       "      <td>female</td>\n",
       "      <td>38.0</td>\n",
       "      <td>1</td>\n",
       "      <td>0</td>\n",
       "      <td>PC 17599</td>\n",
       "      <td>71.2833</td>\n",
       "      <td>C85</td>\n",
       "      <td>C</td>\n",
       "    </tr>\n",
       "    <tr>\n",
       "      <th>2</th>\n",
       "      <td>3</td>\n",
       "      <td>1</td>\n",
       "      <td>3</td>\n",
       "      <td>Heikkinen, Miss. Laina</td>\n",
       "      <td>female</td>\n",
       "      <td>26.0</td>\n",
       "      <td>0</td>\n",
       "      <td>0</td>\n",
       "      <td>STON/O2. 3101282</td>\n",
       "      <td>7.9250</td>\n",
       "      <td>NaN</td>\n",
       "      <td>S</td>\n",
       "    </tr>\n",
       "    <tr>\n",
       "      <th>3</th>\n",
       "      <td>4</td>\n",
       "      <td>1</td>\n",
       "      <td>1</td>\n",
       "      <td>Futrelle, Mrs. Jacques Heath (Lily May Peel)</td>\n",
       "      <td>female</td>\n",
       "      <td>35.0</td>\n",
       "      <td>1</td>\n",
       "      <td>0</td>\n",
       "      <td>113803</td>\n",
       "      <td>53.1000</td>\n",
       "      <td>C123</td>\n",
       "      <td>S</td>\n",
       "    </tr>\n",
       "    <tr>\n",
       "      <th>4</th>\n",
       "      <td>5</td>\n",
       "      <td>0</td>\n",
       "      <td>3</td>\n",
       "      <td>Allen, Mr. William Henry</td>\n",
       "      <td>male</td>\n",
       "      <td>35.0</td>\n",
       "      <td>0</td>\n",
       "      <td>0</td>\n",
       "      <td>373450</td>\n",
       "      <td>8.0500</td>\n",
       "      <td>NaN</td>\n",
       "      <td>S</td>\n",
       "    </tr>\n",
       "    <tr>\n",
       "      <th>5</th>\n",
       "      <td>6</td>\n",
       "      <td>0</td>\n",
       "      <td>3</td>\n",
       "      <td>Moran, Mr. James</td>\n",
       "      <td>male</td>\n",
       "      <td>NaN</td>\n",
       "      <td>0</td>\n",
       "      <td>0</td>\n",
       "      <td>330877</td>\n",
       "      <td>8.4583</td>\n",
       "      <td>NaN</td>\n",
       "      <td>Q</td>\n",
       "    </tr>\n",
       "    <tr>\n",
       "      <th>6</th>\n",
       "      <td>7</td>\n",
       "      <td>0</td>\n",
       "      <td>1</td>\n",
       "      <td>McCarthy, Mr. Timothy J</td>\n",
       "      <td>male</td>\n",
       "      <td>54.0</td>\n",
       "      <td>0</td>\n",
       "      <td>0</td>\n",
       "      <td>17463</td>\n",
       "      <td>51.8625</td>\n",
       "      <td>E46</td>\n",
       "      <td>S</td>\n",
       "    </tr>\n",
       "    <tr>\n",
       "      <th>7</th>\n",
       "      <td>8</td>\n",
       "      <td>0</td>\n",
       "      <td>3</td>\n",
       "      <td>Palsson, Master. Gosta Leonard</td>\n",
       "      <td>male</td>\n",
       "      <td>2.0</td>\n",
       "      <td>3</td>\n",
       "      <td>1</td>\n",
       "      <td>349909</td>\n",
       "      <td>21.0750</td>\n",
       "      <td>NaN</td>\n",
       "      <td>S</td>\n",
       "    </tr>\n",
       "    <tr>\n",
       "      <th>8</th>\n",
       "      <td>9</td>\n",
       "      <td>1</td>\n",
       "      <td>3</td>\n",
       "      <td>Johnson, Mrs. Oscar W (Elisabeth Vilhelmina Berg)</td>\n",
       "      <td>female</td>\n",
       "      <td>27.0</td>\n",
       "      <td>0</td>\n",
       "      <td>2</td>\n",
       "      <td>347742</td>\n",
       "      <td>11.1333</td>\n",
       "      <td>NaN</td>\n",
       "      <td>S</td>\n",
       "    </tr>\n",
       "    <tr>\n",
       "      <th>9</th>\n",
       "      <td>10</td>\n",
       "      <td>1</td>\n",
       "      <td>2</td>\n",
       "      <td>Nasser, Mrs. Nicholas (Adele Achem)</td>\n",
       "      <td>female</td>\n",
       "      <td>14.0</td>\n",
       "      <td>1</td>\n",
       "      <td>0</td>\n",
       "      <td>237736</td>\n",
       "      <td>30.0708</td>\n",
       "      <td>NaN</td>\n",
       "      <td>C</td>\n",
       "    </tr>\n",
       "  </tbody>\n",
       "</table>\n",
       "</div>"
      ],
      "text/plain": [
       "   PassengerId  Survived  Pclass  \\\n",
       "0            1         0       3   \n",
       "1            2         1       1   \n",
       "2            3         1       3   \n",
       "3            4         1       1   \n",
       "4            5         0       3   \n",
       "5            6         0       3   \n",
       "6            7         0       1   \n",
       "7            8         0       3   \n",
       "8            9         1       3   \n",
       "9           10         1       2   \n",
       "\n",
       "                                                Name     Sex   Age  SibSp  \\\n",
       "0                            Braund, Mr. Owen Harris    male  22.0      1   \n",
       "1  Cumings, Mrs. John Bradley (Florence Briggs Th...  female  38.0      1   \n",
       "2                             Heikkinen, Miss. Laina  female  26.0      0   \n",
       "3       Futrelle, Mrs. Jacques Heath (Lily May Peel)  female  35.0      1   \n",
       "4                           Allen, Mr. William Henry    male  35.0      0   \n",
       "5                                   Moran, Mr. James    male   NaN      0   \n",
       "6                            McCarthy, Mr. Timothy J    male  54.0      0   \n",
       "7                     Palsson, Master. Gosta Leonard    male   2.0      3   \n",
       "8  Johnson, Mrs. Oscar W (Elisabeth Vilhelmina Berg)  female  27.0      0   \n",
       "9                Nasser, Mrs. Nicholas (Adele Achem)  female  14.0      1   \n",
       "\n",
       "   Parch            Ticket     Fare Cabin Embarked  \n",
       "0      0         A/5 21171   7.2500   NaN        S  \n",
       "1      0          PC 17599  71.2833   C85        C  \n",
       "2      0  STON/O2. 3101282   7.9250   NaN        S  \n",
       "3      0            113803  53.1000  C123        S  \n",
       "4      0            373450   8.0500   NaN        S  \n",
       "5      0            330877   8.4583   NaN        Q  \n",
       "6      0             17463  51.8625   E46        S  \n",
       "7      1            349909  21.0750   NaN        S  \n",
       "8      2            347742  11.1333   NaN        S  \n",
       "9      0            237736  30.0708   NaN        C  "
      ]
     },
     "execution_count": 4,
     "metadata": {},
     "output_type": "execute_result"
    }
   ],
   "source": [
    "#Show 5 rows of the dataset\n",
    "train_data.head(10)"
   ]
  },
  {
   "cell_type": "code",
   "execution_count": 5,
   "id": "308f9b0d",
   "metadata": {
    "execution": {
     "iopub.execute_input": "2022-04-28T16:53:53.469427Z",
     "iopub.status.busy": "2022-04-28T16:53:53.468911Z",
     "iopub.status.idle": "2022-04-28T16:53:53.493855Z",
     "shell.execute_reply": "2022-04-28T16:53:53.493002Z"
    },
    "papermill": {
     "duration": 0.079556,
     "end_time": "2022-04-28T16:53:53.496238",
     "exception": false,
     "start_time": "2022-04-28T16:53:53.416682",
     "status": "completed"
    },
    "tags": []
   },
   "outputs": [
    {
     "name": "stdout",
     "output_type": "stream",
     "text": [
      "<class 'pandas.core.frame.DataFrame'>\n",
      "RangeIndex: 891 entries, 0 to 890\n",
      "Data columns (total 12 columns):\n",
      " #   Column       Non-Null Count  Dtype  \n",
      "---  ------       --------------  -----  \n",
      " 0   PassengerId  891 non-null    int64  \n",
      " 1   Survived     891 non-null    int64  \n",
      " 2   Pclass       891 non-null    int64  \n",
      " 3   Name         891 non-null    object \n",
      " 4   Sex          891 non-null    object \n",
      " 5   Age          714 non-null    float64\n",
      " 6   SibSp        891 non-null    int64  \n",
      " 7   Parch        891 non-null    int64  \n",
      " 8   Ticket       891 non-null    object \n",
      " 9   Fare         891 non-null    float64\n",
      " 10  Cabin        204 non-null    object \n",
      " 11  Embarked     889 non-null    object \n",
      "dtypes: float64(2), int64(5), object(5)\n",
      "memory usage: 83.7+ KB\n"
     ]
    }
   ],
   "source": [
    "#Info about data\n",
    "\n",
    "train_data.info()"
   ]
  },
  {
   "cell_type": "markdown",
   "id": "4817089e",
   "metadata": {
    "papermill": {
     "duration": 0.05149,
     "end_time": "2022-04-28T16:53:53.599529",
     "exception": false,
     "start_time": "2022-04-28T16:53:53.548039",
     "status": "completed"
    },
    "tags": []
   },
   "source": [
    "# **EXPLORATORY DATA ANALYSIS**"
   ]
  },
  {
   "cell_type": "markdown",
   "id": "c5ccc7e7",
   "metadata": {
    "papermill": {
     "duration": 0.051368,
     "end_time": "2022-04-28T16:53:53.703344",
     "exception": false,
     "start_time": "2022-04-28T16:53:53.651976",
     "status": "completed"
    },
    "tags": []
   },
   "source": [
    "Now we will analyze our data to see which variables are actually important to predict the value of the target variable."
   ]
  },
  {
   "cell_type": "code",
   "execution_count": 6,
   "id": "af379db6",
   "metadata": {
    "execution": {
     "iopub.execute_input": "2022-04-28T16:53:53.808795Z",
     "iopub.status.busy": "2022-04-28T16:53:53.808338Z",
     "iopub.status.idle": "2022-04-28T16:53:54.157481Z",
     "shell.execute_reply": "2022-04-28T16:53:54.156505Z"
    },
    "papermill": {
     "duration": 0.405015,
     "end_time": "2022-04-28T16:53:54.159831",
     "exception": false,
     "start_time": "2022-04-28T16:53:53.754816",
     "status": "completed"
    },
    "tags": []
   },
   "outputs": [
    {
     "data": {
      "image/png": "[encoded data removed]",
      "text/plain": [
       "<Figure size 720x432 with 2 Axes>"
      ]
     },
     "metadata": {
      "needs_background": "light"
     },
     "output_type": "display_data"
    }
   ],
   "source": [
    "plt.figure(figsize=(10,6))\n",
    "\n",
    "heatmap = sns.heatmap(train_data[[\"Survived\", \"SibSp\", \"Parch\", \"Age\", \"Fare\"]].corr(), annot = True)\n",
    "sns.set(rc={'figure.figsize':(12,10)})"
   ]
  },
  {
   "cell_type": "markdown",
   "id": "271f9e98",
   "metadata": {
    "papermill": {
     "duration": 0.05236,
     "end_time": "2022-04-28T16:53:54.265142",
     "exception": false,
     "start_time": "2022-04-28T16:53:54.212782",
     "status": "completed"
    },
    "tags": []
   },
   "source": [
    "Moving on, now we will understand all the features one by one. We’ll visualize the impact of each feature on the target variable. Let us start with SibSp that is the no. of siblings or spouses a passenger has."
   ]
  },
  {
   "cell_type": "markdown",
   "id": "e4f3c299",
   "metadata": {
    "papermill": {
     "duration": 0.052363,
     "end_time": "2022-04-28T16:53:54.370391",
     "exception": false,
     "start_time": "2022-04-28T16:53:54.318028",
     "status": "completed"
    },
    "tags": []
   },
   "source": [
    "**SibSp – Number of Siblings / Spouses aboard the Titanic**"
   ]
  },
  {
   "cell_type": "code",
   "execution_count": 7,
   "id": "d61e6b42",
   "metadata": {
    "execution": {
     "iopub.execute_input": "2022-04-28T16:53:54.477689Z",
     "iopub.status.busy": "2022-04-28T16:53:54.476880Z",
     "iopub.status.idle": "2022-04-28T16:53:54.483053Z",
     "shell.execute_reply": "2022-04-28T16:53:54.482332Z"
    },
    "papermill": {
     "duration": 0.061904,
     "end_time": "2022-04-28T16:53:54.484984",
     "exception": false,
     "start_time": "2022-04-28T16:53:54.423080",
     "status": "completed"
    },
    "tags": []
   },
   "outputs": [
    {
     "data": {
      "text/plain": [
       "array([1, 0, 3, 4, 2, 5, 8])"
      ]
     },
     "execution_count": 7,
     "metadata": {},
     "output_type": "execute_result"
    }
   ],
   "source": [
    "# Find unique values\n",
    "\n",
    "train_data['SibSp'].unique()"
   ]
  },
  {
   "cell_type": "code",
   "execution_count": 8,
   "id": "3b278548",
   "metadata": {
    "execution": {
     "iopub.execute_input": "2022-04-28T16:53:54.593413Z",
     "iopub.status.busy": "2022-04-28T16:53:54.593090Z",
     "iopub.status.idle": "2022-04-28T16:53:55.194948Z",
     "shell.execute_reply": "2022-04-28T16:53:55.194040Z"
    },
    "papermill": {
     "duration": 0.658564,
     "end_time": "2022-04-28T16:53:55.196990",
     "exception": false,
     "start_time": "2022-04-28T16:53:54.538426",
     "status": "completed"
    },
    "tags": []
   },
   "outputs": [
    {
     "data": {
      "image/png": "[encoded data removed]",
      "text/plain": [
       "<Figure size 576x576 with 1 Axes>"
      ]
     },
     "metadata": {},
     "output_type": "display_data"
    }
   ],
   "source": [
    "\n",
    "bargraph_sibsp = sns.catplot(x = \"SibSp\", y = \"Survived\", data = train_data, kind=\"bar\", height = 8)"
   ]
  },
  {
   "cell_type": "markdown",
   "id": "59f40691",
   "metadata": {
    "papermill": {
     "duration": 0.05453,
     "end_time": "2022-04-28T16:53:55.306514",
     "exception": false,
     "start_time": "2022-04-28T16:53:55.251984",
     "status": "completed"
    },
    "tags": []
   },
   "source": [
    "Passengers having 1 or 2 siblings have good chances of survival\n",
    "More no. of siblings -> Fewer chances of survival"
   ]
  },
  {
   "cell_type": "markdown",
   "id": "fc2b1b10",
   "metadata": {
    "papermill": {
     "duration": 0.053759,
     "end_time": "2022-04-28T16:53:55.414393",
     "exception": false,
     "start_time": "2022-04-28T16:53:55.360634",
     "status": "completed"
    },
    "tags": []
   },
   "source": [
    "**AGE COLOMN**"
   ]
  },
  {
   "cell_type": "markdown",
   "id": "961cc070",
   "metadata": {
    "papermill": {
     "duration": 0.053897,
     "end_time": "2022-04-28T16:53:55.522994",
     "exception": false,
     "start_time": "2022-04-28T16:53:55.469097",
     "status": "completed"
    },
    "tags": []
   },
   "source": [
    "We can plot a graph so as to see the distribution of age with respect to target variable."
   ]
  },
  {
   "cell_type": "code",
   "execution_count": 9,
   "id": "1afc849b",
   "metadata": {
    "execution": {
     "iopub.execute_input": "2022-04-28T16:53:55.633058Z",
     "iopub.status.busy": "2022-04-28T16:53:55.632078Z",
     "iopub.status.idle": "2022-04-28T16:53:56.447451Z",
     "shell.execute_reply": "2022-04-28T16:53:56.446549Z"
    },
    "papermill": {
     "duration": 0.87295,
     "end_time": "2022-04-28T16:53:56.449818",
     "exception": false,
     "start_time": "2022-04-28T16:53:55.576868",
     "status": "completed"
    },
    "tags": []
   },
   "outputs": [
    {
     "data": {
      "image/png": "[encoded data removed]",
      "text/plain": [
       "<Figure size 1008x504 with 2 Axes>"
      ]
     },
     "metadata": {},
     "output_type": "display_data"
    }
   ],
   "source": [
    "\n",
    " age = sns.FacetGrid(train_data, col=\"Survived\", height = 7)\n",
    "age = age.map(sns.histplot, \"Age\")\n",
    "age = age.set_ylabels(\"Survival Probability\")"
   ]
  },
  {
   "cell_type": "markdown",
   "id": "f58c4c86",
   "metadata": {
    "papermill": {
     "duration": 0.057734,
     "end_time": "2022-04-28T16:53:56.564166",
     "exception": false,
     "start_time": "2022-04-28T16:53:56.506432",
     "status": "completed"
    },
    "tags": []
   },
   "source": [
    " We can see more age -> less chances of survival!"
   ]
  },
  {
   "cell_type": "markdown",
   "id": "c39e14fc",
   "metadata": {
    "papermill": {
     "duration": 0.055645,
     "end_time": "2022-04-28T16:53:56.674926",
     "exception": false,
     "start_time": "2022-04-28T16:53:56.619281",
     "status": "completed"
    },
    "tags": []
   },
   "source": [
    "**GENDER OF COLOMN**"
   ]
  },
  {
   "cell_type": "markdown",
   "id": "e65c5f6e",
   "metadata": {
    "papermill": {
     "duration": 0.055689,
     "end_time": "2022-04-28T16:53:56.786802",
     "exception": false,
     "start_time": "2022-04-28T16:53:56.731113",
     "status": "completed"
    },
    "tags": []
   },
   "source": [
    "For gender we are simply going to use seaborn and will plot a bar graph."
   ]
  },
  {
   "cell_type": "code",
   "execution_count": 10,
   "id": "ef41c323",
   "metadata": {
    "execution": {
     "iopub.execute_input": "2022-04-28T16:53:56.899766Z",
     "iopub.status.busy": "2022-04-28T16:53:56.898864Z",
     "iopub.status.idle": "2022-04-28T16:53:57.190234Z",
     "shell.execute_reply": "2022-04-28T16:53:57.189351Z"
    },
    "papermill": {
     "duration": 0.350405,
     "end_time": "2022-04-28T16:53:57.192553",
     "exception": false,
     "start_time": "2022-04-28T16:53:56.842148",
     "status": "completed"
    },
    "tags": []
   },
   "outputs": [
    {
     "data": {
      "text/plain": [
       "<AxesSubplot:xlabel='Sex', ylabel='Survived'>"
      ]
     },
     "execution_count": 10,
     "metadata": {},
     "output_type": "execute_result"
    },
    {
     "data": {
      "image/png": "[encoded data removed]",
      "text/plain": [
       "<Figure size 864x720 with 1 Axes>"
      ]
     },
     "metadata": {},
     "output_type": "display_data"
    }
   ],
   "source": [
    "sns.barplot(x=\"Sex\", y=\"Survived\", data=train_data)"
   ]
  },
  {
   "cell_type": "markdown",
   "id": "2f74a09c",
   "metadata": {
    "papermill": {
     "duration": 0.056236,
     "end_time": "2022-04-28T16:53:57.305268",
     "exception": false,
     "start_time": "2022-04-28T16:53:57.249032",
     "status": "completed"
    },
    "tags": []
   },
   "source": [
    "We can see from the above graph it’s quite obvious to say that man has less chances of survival over females. "
   ]
  },
  {
   "cell_type": "markdown",
   "id": "7ed34c03",
   "metadata": {
    "papermill": {
     "duration": 0.056339,
     "end_time": "2022-04-28T16:53:57.418176",
     "exception": false,
     "start_time": "2022-04-28T16:53:57.361837",
     "status": "completed"
    },
    "tags": []
   },
   "source": [
    "**PCLASS COLOMN**"
   ]
  },
  {
   "cell_type": "markdown",
   "id": "9a57eb64",
   "metadata": {
    "papermill": {
     "duration": 0.056011,
     "end_time": "2022-04-28T16:53:57.530991",
     "exception": false,
     "start_time": "2022-04-28T16:53:57.474980",
     "status": "completed"
    },
    "tags": []
   },
   "source": [
    "Let us now see whether the class plays any role in survival probability or not."
   ]
  },
  {
   "cell_type": "code",
   "execution_count": 11,
   "id": "29418d2d",
   "metadata": {
    "execution": {
     "iopub.execute_input": "2022-04-28T16:53:57.646066Z",
     "iopub.status.busy": "2022-04-28T16:53:57.645515Z",
     "iopub.status.idle": "2022-04-28T16:53:58.067412Z",
     "shell.execute_reply": "2022-04-28T16:53:58.066558Z"
    },
    "papermill": {
     "duration": 0.482,
     "end_time": "2022-04-28T16:53:58.069670",
     "exception": false,
     "start_time": "2022-04-28T16:53:57.587670",
     "status": "completed"
    },
    "tags": []
   },
   "outputs": [
    {
     "data": {
      "image/png": "[encoded data removed]",
      "text/plain": [
       "<Figure size 504x504 with 1 Axes>"
      ]
     },
     "metadata": {},
     "output_type": "display_data"
    }
   ],
   "source": [
    "pclass = sns.catplot(x = \"Pclass\", y=\"Survived\", data = train_data, kind=\"bar\", height = 7)"
   ]
  },
  {
   "cell_type": "markdown",
   "id": "c27ae112",
   "metadata": {
    "papermill": {
     "duration": 0.057069,
     "end_time": "2022-04-28T16:53:58.183818",
     "exception": false,
     "start_time": "2022-04-28T16:53:58.126749",
     "status": "completed"
    },
    "tags": []
   },
   "source": [
    "So we can see a first class passenger has more chances of survival over 2nd and 3rd class passengers & Similarly the 2nd class passengers have more chances of survival over 3rd class passengers.\n"
   ]
  },
  {
   "cell_type": "markdown",
   "id": "fbc5bfb3",
   "metadata": {
    "papermill": {
     "duration": 0.059602,
     "end_time": "2022-04-28T16:53:58.300763",
     "exception": false,
     "start_time": "2022-04-28T16:53:58.241161",
     "status": "completed"
    },
    "tags": []
   },
   "source": [
    "# **DATA PREPROCESSING**"
   ]
  },
  {
   "cell_type": "code",
   "execution_count": 12,
   "id": "fb5ec6a1",
   "metadata": {
    "execution": {
     "iopub.execute_input": "2022-04-28T16:53:58.417311Z",
     "iopub.status.busy": "2022-04-28T16:53:58.416720Z",
     "iopub.status.idle": "2022-04-28T16:53:58.425746Z",
     "shell.execute_reply": "2022-04-28T16:53:58.424839Z"
    },
    "papermill": {
     "duration": 0.069802,
     "end_time": "2022-04-28T16:53:58.427735",
     "exception": false,
     "start_time": "2022-04-28T16:53:58.357933",
     "status": "completed"
    },
    "tags": []
   },
   "outputs": [
    {
     "data": {
      "text/plain": [
       "PassengerId      0\n",
       "Survived         0\n",
       "Pclass           0\n",
       "Name             0\n",
       "Sex              0\n",
       "Age            177\n",
       "SibSp            0\n",
       "Parch            0\n",
       "Ticket           0\n",
       "Fare             0\n",
       "Cabin          687\n",
       "Embarked         2\n",
       "dtype: int64"
      ]
     },
     "execution_count": 12,
     "metadata": {},
     "output_type": "execute_result"
    }
   ],
   "source": [
    "#Check null values\n",
    "\n",
    "train_data.isnull().sum()"
   ]
  },
  {
   "cell_type": "markdown",
   "id": "9217b303",
   "metadata": {
    "papermill": {
     "duration": 0.05742,
     "end_time": "2022-04-28T16:53:58.542760",
     "exception": false,
     "start_time": "2022-04-28T16:53:58.485340",
     "status": "completed"
    },
    "tags": []
   },
   "source": [
    "We can see there are 177 missing entries in Age column. 687 missing entries are in Cabin column and 2 missing are in Embarked."
   ]
  },
  {
   "cell_type": "markdown",
   "id": "b2f5c6fe",
   "metadata": {
    "papermill": {
     "duration": 0.057435,
     "end_time": "2022-04-28T16:53:58.657996",
     "exception": false,
     "start_time": "2022-04-28T16:53:58.600561",
     "status": "completed"
    },
    "tags": []
   },
   "source": [
    "**HANDLE MISSING VALUES OF AGE COLUMN**"
   ]
  },
  {
   "cell_type": "code",
   "execution_count": 13,
   "id": "6aa1099b",
   "metadata": {
    "execution": {
     "iopub.execute_input": "2022-04-28T16:53:58.785024Z",
     "iopub.status.busy": "2022-04-28T16:53:58.784436Z",
     "iopub.status.idle": "2022-04-28T16:53:58.800856Z",
     "shell.execute_reply": "2022-04-28T16:53:58.799838Z"
    },
    "papermill": {
     "duration": 0.084373,
     "end_time": "2022-04-28T16:53:58.803019",
     "exception": false,
     "start_time": "2022-04-28T16:53:58.718646",
     "status": "completed"
    },
    "tags": []
   },
   "outputs": [
    {
     "data": {
      "text/plain": [
       "PassengerId      0\n",
       "Survived         0\n",
       "Pclass           0\n",
       "Name             0\n",
       "Sex              0\n",
       "Age              0\n",
       "SibSp            0\n",
       "Parch            0\n",
       "Ticket           0\n",
       "Fare             0\n",
       "Cabin          687\n",
       "Embarked         0\n",
       "dtype: int64"
      ]
     },
     "execution_count": 13,
     "metadata": {},
     "output_type": "execute_result"
    }
   ],
   "source": [
    "mean = train_data[\"Age\"].mean()\n",
    "std = train_data[\"Age\"].std()\n",
    "\n",
    "rand_age = np.random.randint(mean-std, mean+std, size = 177)\n",
    "age_slice = train_data[\"Age\"].copy()\n",
    "age_slice[np.isnan(age_slice)] = rand_age\n",
    "train_data[\"Age\"] = age_slice\n",
    "\n",
    "train_data[\"Embarked\"].fillna(value=\"C\", inplace=True)\n",
    "\n",
    "\n",
    "# Again checking for null values\n",
    "train_data.isnull().sum()\n"
   ]
  },
  {
   "cell_type": "markdown",
   "id": "bf71fb78",
   "metadata": {
    "papermill": {
     "duration": 0.05951,
     "end_time": "2022-04-28T16:53:58.923845",
     "exception": false,
     "start_time": "2022-04-28T16:53:58.864335",
     "status": "completed"
    },
    "tags": []
   },
   "source": [
    "We can see, we don't have missing values"
   ]
  },
  {
   "cell_type": "markdown",
   "id": "4dbdbceb",
   "metadata": {
    "papermill": {
     "duration": 0.058244,
     "end_time": "2022-04-28T16:53:59.042725",
     "exception": false,
     "start_time": "2022-04-28T16:53:58.984481",
     "status": "completed"
    },
    "tags": []
   },
   "source": [
    "**DROP COLUMN**"
   ]
  },
  {
   "cell_type": "code",
   "execution_count": 14,
   "id": "1a9a2396",
   "metadata": {
    "execution": {
     "iopub.execute_input": "2022-04-28T16:53:59.160952Z",
     "iopub.status.busy": "2022-04-28T16:53:59.160342Z",
     "iopub.status.idle": "2022-04-28T16:53:59.176362Z",
     "shell.execute_reply": "2022-04-28T16:53:59.175769Z"
    },
    "papermill": {
     "duration": 0.077722,
     "end_time": "2022-04-28T16:53:59.178677",
     "exception": false,
     "start_time": "2022-04-28T16:53:59.100955",
     "status": "completed"
    },
    "tags": []
   },
   "outputs": [
    {
     "data": {
      "text/html": [
       "<div>\n",
       "<style scoped>\n",
       "    .dataframe tbody tr th:only-of-type {\n",
       "        vertical-align: middle;\n",
       "    }\n",
       "\n",
       "    .dataframe tbody tr th {\n",
       "        vertical-align: top;\n",
       "    }\n",
       "\n",
       "    .dataframe thead th {\n",
       "        text-align: right;\n",
       "    }\n",
       "</style>\n",
       "<table border=\"1\" class=\"dataframe\">\n",
       "  <thead>\n",
       "    <tr style=\"text-align: right;\">\n",
       "      <th></th>\n",
       "      <th>Survived</th>\n",
       "      <th>Pclass</th>\n",
       "      <th>Sex</th>\n",
       "      <th>Age</th>\n",
       "      <th>SibSp</th>\n",
       "      <th>Parch</th>\n",
       "      <th>Fare</th>\n",
       "      <th>Embarked</th>\n",
       "    </tr>\n",
       "  </thead>\n",
       "  <tbody>\n",
       "    <tr>\n",
       "      <th>0</th>\n",
       "      <td>0</td>\n",
       "      <td>3</td>\n",
       "      <td>male</td>\n",
       "      <td>22.0</td>\n",
       "      <td>1</td>\n",
       "      <td>0</td>\n",
       "      <td>7.2500</td>\n",
       "      <td>S</td>\n",
       "    </tr>\n",
       "    <tr>\n",
       "      <th>1</th>\n",
       "      <td>1</td>\n",
       "      <td>1</td>\n",
       "      <td>female</td>\n",
       "      <td>38.0</td>\n",
       "      <td>1</td>\n",
       "      <td>0</td>\n",
       "      <td>71.2833</td>\n",
       "      <td>C</td>\n",
       "    </tr>\n",
       "    <tr>\n",
       "      <th>2</th>\n",
       "      <td>1</td>\n",
       "      <td>3</td>\n",
       "      <td>female</td>\n",
       "      <td>26.0</td>\n",
       "      <td>0</td>\n",
       "      <td>0</td>\n",
       "      <td>7.9250</td>\n",
       "      <td>S</td>\n",
       "    </tr>\n",
       "    <tr>\n",
       "      <th>3</th>\n",
       "      <td>1</td>\n",
       "      <td>1</td>\n",
       "      <td>female</td>\n",
       "      <td>35.0</td>\n",
       "      <td>1</td>\n",
       "      <td>0</td>\n",
       "      <td>53.1000</td>\n",
       "      <td>S</td>\n",
       "    </tr>\n",
       "    <tr>\n",
       "      <th>4</th>\n",
       "      <td>0</td>\n",
       "      <td>3</td>\n",
       "      <td>male</td>\n",
       "      <td>35.0</td>\n",
       "      <td>0</td>\n",
       "      <td>0</td>\n",
       "      <td>8.0500</td>\n",
       "      <td>S</td>\n",
       "    </tr>\n",
       "    <tr>\n",
       "      <th>5</th>\n",
       "      <td>0</td>\n",
       "      <td>3</td>\n",
       "      <td>male</td>\n",
       "      <td>38.0</td>\n",
       "      <td>0</td>\n",
       "      <td>0</td>\n",
       "      <td>8.4583</td>\n",
       "      <td>Q</td>\n",
       "    </tr>\n",
       "    <tr>\n",
       "      <th>6</th>\n",
       "      <td>0</td>\n",
       "      <td>1</td>\n",
       "      <td>male</td>\n",
       "      <td>54.0</td>\n",
       "      <td>0</td>\n",
       "      <td>0</td>\n",
       "      <td>51.8625</td>\n",
       "      <td>S</td>\n",
       "    </tr>\n",
       "    <tr>\n",
       "      <th>7</th>\n",
       "      <td>0</td>\n",
       "      <td>3</td>\n",
       "      <td>male</td>\n",
       "      <td>2.0</td>\n",
       "      <td>3</td>\n",
       "      <td>1</td>\n",
       "      <td>21.0750</td>\n",
       "      <td>S</td>\n",
       "    </tr>\n",
       "    <tr>\n",
       "      <th>8</th>\n",
       "      <td>1</td>\n",
       "      <td>3</td>\n",
       "      <td>female</td>\n",
       "      <td>27.0</td>\n",
       "      <td>0</td>\n",
       "      <td>2</td>\n",
       "      <td>11.1333</td>\n",
       "      <td>S</td>\n",
       "    </tr>\n",
       "    <tr>\n",
       "      <th>9</th>\n",
       "      <td>1</td>\n",
       "      <td>2</td>\n",
       "      <td>female</td>\n",
       "      <td>14.0</td>\n",
       "      <td>1</td>\n",
       "      <td>0</td>\n",
       "      <td>30.0708</td>\n",
       "      <td>C</td>\n",
       "    </tr>\n",
       "  </tbody>\n",
       "</table>\n",
       "</div>"
      ],
      "text/plain": [
       "   Survived  Pclass     Sex   Age  SibSp  Parch     Fare Embarked\n",
       "0         0       3    male  22.0      1      0   7.2500        S\n",
       "1         1       1  female  38.0      1      0  71.2833        C\n",
       "2         1       3  female  26.0      0      0   7.9250        S\n",
       "3         1       1  female  35.0      1      0  53.1000        S\n",
       "4         0       3    male  35.0      0      0   8.0500        S\n",
       "5         0       3    male  38.0      0      0   8.4583        Q\n",
       "6         0       1    male  54.0      0      0  51.8625        S\n",
       "7         0       3    male   2.0      3      1  21.0750        S\n",
       "8         1       3  female  27.0      0      2  11.1333        S\n",
       "9         1       2  female  14.0      1      0  30.0708        C"
      ]
     },
     "execution_count": 14,
     "metadata": {},
     "output_type": "execute_result"
    }
   ],
   "source": [
    "col_to_drop = [\"PassengerId\", \"Ticket\", \"Cabin\", \"Name\"]\n",
    "train_data.drop(col_to_drop, axis=1, inplace=True)\n",
    "train_data.head(10)"
   ]
  },
  {
   "cell_type": "markdown",
   "id": "9c797d72",
   "metadata": {
    "papermill": {
     "duration": 0.058503,
     "end_time": "2022-04-28T16:53:59.296157",
     "exception": false,
     "start_time": "2022-04-28T16:53:59.237654",
     "status": "completed"
    },
    "tags": []
   },
   "source": [
    "**CONVERTING CATEGORICAL VARIABLES TO NUMERIC**"
   ]
  },
  {
   "cell_type": "code",
   "execution_count": 15,
   "id": "7ed4a243",
   "metadata": {
    "execution": {
     "iopub.execute_input": "2022-04-28T16:53:59.415892Z",
     "iopub.status.busy": "2022-04-28T16:53:59.415122Z",
     "iopub.status.idle": "2022-04-28T16:53:59.431475Z",
     "shell.execute_reply": "2022-04-28T16:53:59.430755Z"
    },
    "papermill": {
     "duration": 0.078647,
     "end_time": "2022-04-28T16:53:59.433761",
     "exception": false,
     "start_time": "2022-04-28T16:53:59.355114",
     "status": "completed"
    },
    "tags": []
   },
   "outputs": [
    {
     "data": {
      "text/html": [
       "<div>\n",
       "<style scoped>\n",
       "    .dataframe tbody tr th:only-of-type {\n",
       "        vertical-align: middle;\n",
       "    }\n",
       "\n",
       "    .dataframe tbody tr th {\n",
       "        vertical-align: top;\n",
       "    }\n",
       "\n",
       "    .dataframe thead th {\n",
       "        text-align: right;\n",
       "    }\n",
       "</style>\n",
       "<table border=\"1\" class=\"dataframe\">\n",
       "  <thead>\n",
       "    <tr style=\"text-align: right;\">\n",
       "      <th></th>\n",
       "      <th>Survived</th>\n",
       "      <th>Pclass</th>\n",
       "      <th>Sex</th>\n",
       "      <th>Age</th>\n",
       "      <th>SibSp</th>\n",
       "      <th>Parch</th>\n",
       "      <th>Fare</th>\n",
       "      <th>Embarked</th>\n",
       "    </tr>\n",
       "  </thead>\n",
       "  <tbody>\n",
       "    <tr>\n",
       "      <th>0</th>\n",
       "      <td>0</td>\n",
       "      <td>3</td>\n",
       "      <td>0</td>\n",
       "      <td>22.0</td>\n",
       "      <td>1</td>\n",
       "      <td>0</td>\n",
       "      <td>7.2500</td>\n",
       "      <td>0</td>\n",
       "    </tr>\n",
       "    <tr>\n",
       "      <th>1</th>\n",
       "      <td>1</td>\n",
       "      <td>1</td>\n",
       "      <td>1</td>\n",
       "      <td>38.0</td>\n",
       "      <td>1</td>\n",
       "      <td>0</td>\n",
       "      <td>71.2833</td>\n",
       "      <td>1</td>\n",
       "    </tr>\n",
       "    <tr>\n",
       "      <th>2</th>\n",
       "      <td>1</td>\n",
       "      <td>3</td>\n",
       "      <td>1</td>\n",
       "      <td>26.0</td>\n",
       "      <td>0</td>\n",
       "      <td>0</td>\n",
       "      <td>7.9250</td>\n",
       "      <td>0</td>\n",
       "    </tr>\n",
       "    <tr>\n",
       "      <th>3</th>\n",
       "      <td>1</td>\n",
       "      <td>1</td>\n",
       "      <td>1</td>\n",
       "      <td>35.0</td>\n",
       "      <td>1</td>\n",
       "      <td>0</td>\n",
       "      <td>53.1000</td>\n",
       "      <td>0</td>\n",
       "    </tr>\n",
       "    <tr>\n",
       "      <th>4</th>\n",
       "      <td>0</td>\n",
       "      <td>3</td>\n",
       "      <td>0</td>\n",
       "      <td>35.0</td>\n",
       "      <td>0</td>\n",
       "      <td>0</td>\n",
       "      <td>8.0500</td>\n",
       "      <td>0</td>\n",
       "    </tr>\n",
       "  </tbody>\n",
       "</table>\n",
       "</div>"
      ],
      "text/plain": [
       "   Survived  Pclass  Sex   Age  SibSp  Parch     Fare  Embarked\n",
       "0         0       3    0  22.0      1      0   7.2500         0\n",
       "1         1       1    1  38.0      1      0  71.2833         1\n",
       "2         1       3    1  26.0      0      0   7.9250         0\n",
       "3         1       1    1  35.0      1      0  53.1000         0\n",
       "4         0       3    0  35.0      0      0   8.0500         0"
      ]
     },
     "execution_count": 15,
     "metadata": {},
     "output_type": "execute_result"
    }
   ],
   "source": [
    "genders = {\"male\":0, \"female\":1}\n",
    "train_data[\"Sex\"] = train_data[\"Sex\"].map(genders)\n",
    "\n",
    "ports = {\"S\":0, \"C\":1, \"Q\":2}\n",
    "train_data[\"Embarked\"] = train_data[\"Embarked\"].map(ports)\n",
    "\n",
    "train_data.head()"
   ]
  },
  {
   "cell_type": "markdown",
   "id": "a2b002f5",
   "metadata": {
    "papermill": {
     "duration": 0.058898,
     "end_time": "2022-04-28T16:53:59.551979",
     "exception": false,
     "start_time": "2022-04-28T16:53:59.493081",
     "status": "completed"
    },
    "tags": []
   },
   "source": [
    "# **BUILDING MACHINE LEARNING MODEL**"
   ]
  },
  {
   "cell_type": "markdown",
   "id": "adbe6b80",
   "metadata": {
    "papermill": {
     "duration": 0.058979,
     "end_time": "2022-04-28T16:53:59.670246",
     "exception": false,
     "start_time": "2022-04-28T16:53:59.611267",
     "status": "completed"
    },
    "tags": []
   },
   "source": [
    "So, this was all about data preprocessing. Now we are good to go with our titanic dataset. Let’s quickly train our machine learning model."
   ]
  },
  {
   "cell_type": "code",
   "execution_count": 16,
   "id": "8471d0ad",
   "metadata": {
    "execution": {
     "iopub.execute_input": "2022-04-28T16:53:59.794459Z",
     "iopub.status.busy": "2022-04-28T16:53:59.794165Z",
     "iopub.status.idle": "2022-04-28T16:53:59.801548Z",
     "shell.execute_reply": "2022-04-28T16:53:59.800900Z"
    },
    "papermill": {
     "duration": 0.071729,
     "end_time": "2022-04-28T16:53:59.803684",
     "exception": false,
     "start_time": "2022-04-28T16:53:59.731955",
     "status": "completed"
    },
    "tags": []
   },
   "outputs": [],
   "source": [
    "df_train_x = train_data[['Pclass', 'Sex', 'Age', 'SibSp', 'Parch', 'Fare', 'Embarked']]\n",
    "\n",
    "# Target variable column\n",
    "df_train_y = train_data['Survived']\n",
    "\n",
    "# Train Test Splitting\n",
    "x_train, x_test, y_train, y_test = train_test_split(df_train_x, df_train_y, test_size=0.20, random_state=42)"
   ]
  },
  {
   "cell_type": "markdown",
   "id": "d0f087be",
   "metadata": {
    "papermill": {
     "duration": 0.05905,
     "end_time": "2022-04-28T16:53:59.923053",
     "exception": false,
     "start_time": "2022-04-28T16:53:59.864003",
     "status": "completed"
    },
    "tags": []
   },
   "source": [
    "**Lastly, We are going to fit our model on 5 different classification algorithms namely RANDOM FOREST CLASSIFIER, LOGISTIC REGRESSION, K-NEIGHBOR CLASSIFIER, DECISSION TREE CLASSIFIER, and SUPPORT VECTOR MACHINE. And eventually will compare them.**"
   ]
  },
  {
   "cell_type": "markdown",
   "id": "6af60be6",
   "metadata": {
    "papermill": {
     "duration": 0.059858,
     "end_time": "2022-04-28T16:54:00.042662",
     "exception": false,
     "start_time": "2022-04-28T16:53:59.982804",
     "status": "completed"
    },
    "tags": []
   },
   "source": [
    "**RANDOM FOREST**"
   ]
  },
  {
   "cell_type": "code",
   "execution_count": 17,
   "id": "c33b043e",
   "metadata": {
    "execution": {
     "iopub.execute_input": "2022-04-28T16:54:00.164263Z",
     "iopub.status.busy": "2022-04-28T16:54:00.163761Z",
     "iopub.status.idle": "2022-04-28T16:54:00.525581Z",
     "shell.execute_reply": "2022-04-28T16:54:00.524766Z"
    },
    "papermill": {
     "duration": 0.42477,
     "end_time": "2022-04-28T16:54:00.527846",
     "exception": false,
     "start_time": "2022-04-28T16:54:00.103076",
     "status": "completed"
    },
    "tags": []
   },
   "outputs": [
    {
     "name": "stdout",
     "output_type": "stream",
     "text": [
      "accuracy= 82.12290502793296\n"
     ]
    }
   ],
   "source": [
    "# Creating alias for Classifier\n",
    "model1 = RandomForestClassifier()\n",
    "\n",
    "# Fitting the model using training data\n",
    "model1 = model1.fit(x_train, y_train)\n",
    "\n",
    "# Predicting on test data\n",
    "rfc_y_pred = model1.predict(x_test)\n",
    "\n",
    "# Calculating Accuracy to compare all models\n",
    "rfc_accuracy = accuracy_score(y_test,rfc_y_pred) * 100\n",
    "print(\"accuracy=\",rfc_accuracy)"
   ]
  },
  {
   "cell_type": "markdown",
   "id": "9aba5a24",
   "metadata": {
    "papermill": {
     "duration": 0.059745,
     "end_time": "2022-04-28T16:54:00.647929",
     "exception": false,
     "start_time": "2022-04-28T16:54:00.588184",
     "status": "completed"
    },
    "tags": []
   },
   "source": [
    "**LOGISTIC REGRESSION**"
   ]
  },
  {
   "cell_type": "code",
   "execution_count": 18,
   "id": "688667ee",
   "metadata": {
    "execution": {
     "iopub.execute_input": "2022-04-28T16:54:00.771105Z",
     "iopub.status.busy": "2022-04-28T16:54:00.770591Z",
     "iopub.status.idle": "2022-04-28T16:54:00.819402Z",
     "shell.execute_reply": "2022-04-28T16:54:00.818342Z"
    },
    "papermill": {
     "duration": 0.113724,
     "end_time": "2022-04-28T16:54:00.822268",
     "exception": false,
     "start_time": "2022-04-28T16:54:00.708544",
     "status": "completed"
    },
    "tags": []
   },
   "outputs": [
    {
     "name": "stdout",
     "output_type": "stream",
     "text": [
      "accuracy= 79.88826815642457\n"
     ]
    }
   ],
   "source": [
    "model2 = LogisticRegression( max_iter=2000 )\n",
    "model2 = model2.fit(x_train, y_train)\n",
    "lr_y_pred = model2.predict(x_test)\n",
    "lr_accuracy = accuracy_score(y_test,lr_y_pred)*100\n",
    "\n",
    "print(\"accuracy=\",lr_accuracy)"
   ]
  },
  {
   "cell_type": "markdown",
   "id": "1b768228",
   "metadata": {
    "papermill": {
     "duration": 0.059732,
     "end_time": "2022-04-28T16:54:00.943056",
     "exception": false,
     "start_time": "2022-04-28T16:54:00.883324",
     "status": "completed"
    },
    "tags": []
   },
   "source": [
    "**K-NEIGHBOR CLASSIFIER**"
   ]
  },
  {
   "cell_type": "code",
   "execution_count": 19,
   "id": "8fc309e5",
   "metadata": {
    "execution": {
     "iopub.execute_input": "2022-04-28T16:54:01.068500Z",
     "iopub.status.busy": "2022-04-28T16:54:01.067975Z",
     "iopub.status.idle": "2022-04-28T16:54:01.085634Z",
     "shell.execute_reply": "2022-04-28T16:54:01.084532Z"
    },
    "papermill": {
     "duration": 0.082764,
     "end_time": "2022-04-28T16:54:01.087942",
     "exception": false,
     "start_time": "2022-04-28T16:54:01.005178",
     "status": "completed"
    },
    "tags": []
   },
   "outputs": [
    {
     "name": "stdout",
     "output_type": "stream",
     "text": [
      "accuracy= 68.15642458100558\n"
     ]
    }
   ],
   "source": [
    "model3 = KNeighborsClassifier(5)\n",
    "model3 = model3.fit(x_train, y_train)\n",
    "knc_y_pred = model3.predict(x_test)\n",
    "knc_accuracy = accuracy_score(y_test,knc_y_pred)*100\n",
    "\n",
    "print(\"accuracy=\",knc_accuracy)"
   ]
  },
  {
   "cell_type": "markdown",
   "id": "9c5f3153",
   "metadata": {
    "papermill": {
     "duration": 0.060349,
     "end_time": "2022-04-28T16:54:01.210040",
     "exception": false,
     "start_time": "2022-04-28T16:54:01.149691",
     "status": "completed"
    },
    "tags": []
   },
   "source": [
    "**DECISSION TREE CLASSIFIER**"
   ]
  },
  {
   "cell_type": "code",
   "execution_count": 20,
   "id": "b4bfafb3",
   "metadata": {
    "execution": {
     "iopub.execute_input": "2022-04-28T16:54:01.360309Z",
     "iopub.status.busy": "2022-04-28T16:54:01.359567Z",
     "iopub.status.idle": "2022-04-28T16:54:01.373928Z",
     "shell.execute_reply": "2022-04-28T16:54:01.372953Z"
    },
    "papermill": {
     "duration": 0.101092,
     "end_time": "2022-04-28T16:54:01.376174",
     "exception": false,
     "start_time": "2022-04-28T16:54:01.275082",
     "status": "completed"
    },
    "tags": []
   },
   "outputs": [
    {
     "name": "stdout",
     "output_type": "stream",
     "text": [
      "accuracy= 74.86033519553072\n"
     ]
    }
   ],
   "source": [
    "model4 = tree.DecisionTreeClassifier()\n",
    "model4 = model4.fit(x_train, y_train)\n",
    "dtc_y_pred = model4.predict(x_test)\n",
    "dtc_accuracy = accuracy_score(y_test,dtc_y_pred)*100\n",
    "\n",
    "print(\"accuracy=\",dtc_accuracy)"
   ]
  },
  {
   "cell_type": "markdown",
   "id": "2e5c54d4",
   "metadata": {
    "papermill": {
     "duration": 0.060196,
     "end_time": "2022-04-28T16:54:01.497227",
     "exception": false,
     "start_time": "2022-04-28T16:54:01.437031",
     "status": "completed"
    },
    "tags": []
   },
   "source": [
    "**SUPPORT VECTOR MACHINE**"
   ]
  },
  {
   "cell_type": "code",
   "execution_count": 21,
   "id": "45079309",
   "metadata": {
    "execution": {
     "iopub.execute_input": "2022-04-28T16:54:01.623797Z",
     "iopub.status.busy": "2022-04-28T16:54:01.623220Z",
     "iopub.status.idle": "2022-04-28T16:54:01.658130Z",
     "shell.execute_reply": "2022-04-28T16:54:01.657254Z"
    },
    "papermill": {
     "duration": 0.102692,
     "end_time": "2022-04-28T16:54:01.660397",
     "exception": false,
     "start_time": "2022-04-28T16:54:01.557705",
     "status": "completed"
    },
    "tags": []
   },
   "outputs": [
    {
     "name": "stdout",
     "output_type": "stream",
     "text": [
      "accuracy= 65.36312849162012\n"
     ]
    }
   ],
   "source": [
    "model5 = svm.SVC()\n",
    "model5 = model5.fit(x_train, y_train)\n",
    "svm_y_pred = model5.predict(x_test)\n",
    "svm_accuracy = accuracy_score(y_test,svm_y_pred)*100\n",
    "print(\"accuracy=\",svm_accuracy)"
   ]
  },
  {
   "cell_type": "markdown",
   "id": "37a8eae4",
   "metadata": {
    "papermill": {
     "duration": 0.061597,
     "end_time": "2022-04-28T16:54:01.785201",
     "exception": false,
     "start_time": "2022-04-28T16:54:01.723604",
     "status": "completed"
    },
    "tags": []
   },
   "source": [
    "**ACCURACY SCORES OF All CLASSIFIERS**"
   ]
  },
  {
   "cell_type": "code",
   "execution_count": 22,
   "id": "0599d33b",
   "metadata": {
    "execution": {
     "iopub.execute_input": "2022-04-28T16:54:01.909179Z",
     "iopub.status.busy": "2022-04-28T16:54:01.908915Z",
     "iopub.status.idle": "2022-04-28T16:54:01.914890Z",
     "shell.execute_reply": "2022-04-28T16:54:01.913965Z"
    },
    "papermill": {
     "duration": 0.072231,
     "end_time": "2022-04-28T16:54:01.918592",
     "exception": false,
     "start_time": "2022-04-28T16:54:01.846361",
     "status": "completed"
    },
    "tags": []
   },
   "outputs": [
    {
     "name": "stdout",
     "output_type": "stream",
     "text": [
      "Accuracy of RANDOM FOREST CLASSIFIER = 82.12290502793296\n",
      "Accuracy of LOGISTIC REGRESSION = 79.88826815642457\n",
      "Accuracy of K-NEIGHBOR CLASSIFIER = 68.15642458100558\n",
      "Accuracy of DECISION TREE CLASSIFIER =  74.86033519553072\n",
      "Accuracy of SUPPORT VECTOR MACHINE =  65.36312849162012\n"
     ]
    }
   ],
   "source": [
    "print(\"Accuracy of RANDOM FOREST CLASSIFIER =\",rfc_accuracy)\n",
    "print(\"Accuracy of LOGISTIC REGRESSION =\",lr_accuracy)\n",
    "print(\"Accuracy of K-NEIGHBOR CLASSIFIER =\",knc_accuracy)\n",
    "print(\"Accuracy of DECISION TREE CLASSIFIER = \",dtc_accuracy)\n",
    "print(\"Accuracy of SUPPORT VECTOR MACHINE = \",svm_accuracy)"
   ]
  },
  {
   "cell_type": "markdown",
   "id": "84ce36ae",
   "metadata": {
    "papermill": {
     "duration": 0.061251,
     "end_time": "2022-04-28T16:54:02.041106",
     "exception": false,
     "start_time": "2022-04-28T16:54:01.979855",
     "status": "completed"
    },
    "tags": []
   },
   "source": [
    "Subsequently, we can now rank our evaluation of all the models to choose the best one for our problem. While Random Forest and Logistic Regression score almost the same."
   ]
  },
  {
   "cell_type": "markdown",
   "id": "8d57976c",
   "metadata": {
    "papermill": {
     "duration": 0.061991,
     "end_time": "2022-04-28T16:54:02.164881",
     "exception": false,
     "start_time": "2022-04-28T16:54:02.102890",
     "status": "completed"
    },
    "tags": []
   },
   "source": [
    "# **FINAL PREDICTION WITH MACHINE LEARNING MODEL**"
   ]
  },
  {
   "cell_type": "markdown",
   "id": "31542332",
   "metadata": {
    "papermill": {
     "duration": 0.061618,
     "end_time": "2022-04-28T16:54:02.287673",
     "exception": false,
     "start_time": "2022-04-28T16:54:02.226055",
     "status": "completed"
    },
    "tags": []
   },
   "source": [
    "So, now it’s time to use test.csv for making predictions. For testing data also we need to do the steps of preprocessing that we did earlier. And then only we can predict whether a passenger will survive or not. Hence, I highly encourage you to do all the things for test.csv by yourself."
   ]
  },
  {
   "cell_type": "code",
   "execution_count": 23,
   "id": "f3a06958",
   "metadata": {
    "execution": {
     "iopub.execute_input": "2022-04-28T16:54:02.412196Z",
     "iopub.status.busy": "2022-04-28T16:54:02.411610Z",
     "iopub.status.idle": "2022-04-28T16:54:02.428746Z",
     "shell.execute_reply": "2022-04-28T16:54:02.427922Z"
    },
    "papermill": {
     "duration": 0.082083,
     "end_time": "2022-04-28T16:54:02.430950",
     "exception": false,
     "start_time": "2022-04-28T16:54:02.348867",
     "status": "completed"
    },
    "tags": []
   },
   "outputs": [
    {
     "data": {
      "text/html": [
       "<div>\n",
       "<style scoped>\n",
       "    .dataframe tbody tr th:only-of-type {\n",
       "        vertical-align: middle;\n",
       "    }\n",
       "\n",
       "    .dataframe tbody tr th {\n",
       "        vertical-align: top;\n",
       "    }\n",
       "\n",
       "    .dataframe thead th {\n",
       "        text-align: right;\n",
       "    }\n",
       "</style>\n",
       "<table border=\"1\" class=\"dataframe\">\n",
       "  <thead>\n",
       "    <tr style=\"text-align: right;\">\n",
       "      <th></th>\n",
       "      <th>PassengerId</th>\n",
       "      <th>Pclass</th>\n",
       "      <th>Name</th>\n",
       "      <th>Sex</th>\n",
       "      <th>Age</th>\n",
       "      <th>SibSp</th>\n",
       "      <th>Parch</th>\n",
       "      <th>Ticket</th>\n",
       "      <th>Fare</th>\n",
       "      <th>Cabin</th>\n",
       "      <th>Embarked</th>\n",
       "    </tr>\n",
       "  </thead>\n",
       "  <tbody>\n",
       "    <tr>\n",
       "      <th>0</th>\n",
       "      <td>892</td>\n",
       "      <td>3</td>\n",
       "      <td>Kelly, Mr. James</td>\n",
       "      <td>male</td>\n",
       "      <td>34.5</td>\n",
       "      <td>0</td>\n",
       "      <td>0</td>\n",
       "      <td>330911</td>\n",
       "      <td>7.8292</td>\n",
       "      <td>NaN</td>\n",
       "      <td>Q</td>\n",
       "    </tr>\n",
       "    <tr>\n",
       "      <th>1</th>\n",
       "      <td>893</td>\n",
       "      <td>3</td>\n",
       "      <td>Wilkes, Mrs. James (Ellen Needs)</td>\n",
       "      <td>female</td>\n",
       "      <td>47.0</td>\n",
       "      <td>1</td>\n",
       "      <td>0</td>\n",
       "      <td>363272</td>\n",
       "      <td>7.0000</td>\n",
       "      <td>NaN</td>\n",
       "      <td>S</td>\n",
       "    </tr>\n",
       "    <tr>\n",
       "      <th>2</th>\n",
       "      <td>894</td>\n",
       "      <td>2</td>\n",
       "      <td>Myles, Mr. Thomas Francis</td>\n",
       "      <td>male</td>\n",
       "      <td>62.0</td>\n",
       "      <td>0</td>\n",
       "      <td>0</td>\n",
       "      <td>240276</td>\n",
       "      <td>9.6875</td>\n",
       "      <td>NaN</td>\n",
       "      <td>Q</td>\n",
       "    </tr>\n",
       "    <tr>\n",
       "      <th>3</th>\n",
       "      <td>895</td>\n",
       "      <td>3</td>\n",
       "      <td>Wirz, Mr. Albert</td>\n",
       "      <td>male</td>\n",
       "      <td>27.0</td>\n",
       "      <td>0</td>\n",
       "      <td>0</td>\n",
       "      <td>315154</td>\n",
       "      <td>8.6625</td>\n",
       "      <td>NaN</td>\n",
       "      <td>S</td>\n",
       "    </tr>\n",
       "    <tr>\n",
       "      <th>4</th>\n",
       "      <td>896</td>\n",
       "      <td>3</td>\n",
       "      <td>Hirvonen, Mrs. Alexander (Helga E Lindqvist)</td>\n",
       "      <td>female</td>\n",
       "      <td>22.0</td>\n",
       "      <td>1</td>\n",
       "      <td>1</td>\n",
       "      <td>3101298</td>\n",
       "      <td>12.2875</td>\n",
       "      <td>NaN</td>\n",
       "      <td>S</td>\n",
       "    </tr>\n",
       "    <tr>\n",
       "      <th>5</th>\n",
       "      <td>897</td>\n",
       "      <td>3</td>\n",
       "      <td>Svensson, Mr. Johan Cervin</td>\n",
       "      <td>male</td>\n",
       "      <td>14.0</td>\n",
       "      <td>0</td>\n",
       "      <td>0</td>\n",
       "      <td>7538</td>\n",
       "      <td>9.2250</td>\n",
       "      <td>NaN</td>\n",
       "      <td>S</td>\n",
       "    </tr>\n",
       "    <tr>\n",
       "      <th>6</th>\n",
       "      <td>898</td>\n",
       "      <td>3</td>\n",
       "      <td>Connolly, Miss. Kate</td>\n",
       "      <td>female</td>\n",
       "      <td>30.0</td>\n",
       "      <td>0</td>\n",
       "      <td>0</td>\n",
       "      <td>330972</td>\n",
       "      <td>7.6292</td>\n",
       "      <td>NaN</td>\n",
       "      <td>Q</td>\n",
       "    </tr>\n",
       "    <tr>\n",
       "      <th>7</th>\n",
       "      <td>899</td>\n",
       "      <td>2</td>\n",
       "      <td>Caldwell, Mr. Albert Francis</td>\n",
       "      <td>male</td>\n",
       "      <td>26.0</td>\n",
       "      <td>1</td>\n",
       "      <td>1</td>\n",
       "      <td>248738</td>\n",
       "      <td>29.0000</td>\n",
       "      <td>NaN</td>\n",
       "      <td>S</td>\n",
       "    </tr>\n",
       "    <tr>\n",
       "      <th>8</th>\n",
       "      <td>900</td>\n",
       "      <td>3</td>\n",
       "      <td>Abrahim, Mrs. Joseph (Sophie Halaut Easu)</td>\n",
       "      <td>female</td>\n",
       "      <td>18.0</td>\n",
       "      <td>0</td>\n",
       "      <td>0</td>\n",
       "      <td>2657</td>\n",
       "      <td>7.2292</td>\n",
       "      <td>NaN</td>\n",
       "      <td>C</td>\n",
       "    </tr>\n",
       "    <tr>\n",
       "      <th>9</th>\n",
       "      <td>901</td>\n",
       "      <td>3</td>\n",
       "      <td>Davies, Mr. John Samuel</td>\n",
       "      <td>male</td>\n",
       "      <td>21.0</td>\n",
       "      <td>2</td>\n",
       "      <td>0</td>\n",
       "      <td>A/4 48871</td>\n",
       "      <td>24.1500</td>\n",
       "      <td>NaN</td>\n",
       "      <td>S</td>\n",
       "    </tr>\n",
       "  </tbody>\n",
       "</table>\n",
       "</div>"
      ],
      "text/plain": [
       "   PassengerId  Pclass                                          Name     Sex  \\\n",
       "0          892       3                              Kelly, Mr. James    male   \n",
       "1          893       3              Wilkes, Mrs. James (Ellen Needs)  female   \n",
       "2          894       2                     Myles, Mr. Thomas Francis    male   \n",
       "3          895       3                              Wirz, Mr. Albert    male   \n",
       "4          896       3  Hirvonen, Mrs. Alexander (Helga E Lindqvist)  female   \n",
       "5          897       3                    Svensson, Mr. Johan Cervin    male   \n",
       "6          898       3                          Connolly, Miss. Kate  female   \n",
       "7          899       2                  Caldwell, Mr. Albert Francis    male   \n",
       "8          900       3     Abrahim, Mrs. Joseph (Sophie Halaut Easu)  female   \n",
       "9          901       3                       Davies, Mr. John Samuel    male   \n",
       "\n",
       "    Age  SibSp  Parch     Ticket     Fare Cabin Embarked  \n",
       "0  34.5      0      0     330911   7.8292   NaN        Q  \n",
       "1  47.0      1      0     363272   7.0000   NaN        S  \n",
       "2  62.0      0      0     240276   9.6875   NaN        Q  \n",
       "3  27.0      0      0     315154   8.6625   NaN        S  \n",
       "4  22.0      1      1    3101298  12.2875   NaN        S  \n",
       "5  14.0      0      0       7538   9.2250   NaN        S  \n",
       "6  30.0      0      0     330972   7.6292   NaN        Q  \n",
       "7  26.0      1      1     248738  29.0000   NaN        S  \n",
       "8  18.0      0      0       2657   7.2292   NaN        C  \n",
       "9  21.0      2      0  A/4 48871  24.1500   NaN        S  "
      ]
     },
     "execution_count": 23,
     "metadata": {},
     "output_type": "execute_result"
    }
   ],
   "source": [
    "test_data.head(10)"
   ]
  },
  {
   "cell_type": "code",
   "execution_count": 24,
   "id": "d2e26b66",
   "metadata": {
    "execution": {
     "iopub.execute_input": "2022-04-28T16:54:02.577258Z",
     "iopub.status.busy": "2022-04-28T16:54:02.576738Z",
     "iopub.status.idle": "2022-04-28T16:54:02.588477Z",
     "shell.execute_reply": "2022-04-28T16:54:02.587735Z"
    },
    "papermill": {
     "duration": 0.092762,
     "end_time": "2022-04-28T16:54:02.590708",
     "exception": false,
     "start_time": "2022-04-28T16:54:02.497946",
     "status": "completed"
    },
    "tags": []
   },
   "outputs": [
    {
     "name": "stdout",
     "output_type": "stream",
     "text": [
      "<class 'pandas.core.frame.DataFrame'>\n",
      "RangeIndex: 418 entries, 0 to 417\n",
      "Data columns (total 11 columns):\n",
      " #   Column       Non-Null Count  Dtype  \n",
      "---  ------       --------------  -----  \n",
      " 0   PassengerId  418 non-null    int64  \n",
      " 1   Pclass       418 non-null    int64  \n",
      " 2   Name         418 non-null    object \n",
      " 3   Sex          418 non-null    object \n",
      " 4   Age          332 non-null    float64\n",
      " 5   SibSp        418 non-null    int64  \n",
      " 6   Parch        418 non-null    int64  \n",
      " 7   Ticket       418 non-null    object \n",
      " 8   Fare         417 non-null    float64\n",
      " 9   Cabin        91 non-null     object \n",
      " 10  Embarked     418 non-null    object \n",
      "dtypes: float64(2), int64(4), object(5)\n",
      "memory usage: 36.0+ KB\n"
     ]
    }
   ],
   "source": [
    "test_data.info()"
   ]
  },
  {
   "cell_type": "code",
   "execution_count": 25,
   "id": "821c9e7a",
   "metadata": {
    "execution": {
     "iopub.execute_input": "2022-04-28T16:54:02.720395Z",
     "iopub.status.busy": "2022-04-28T16:54:02.719827Z",
     "iopub.status.idle": "2022-04-28T16:54:02.727569Z",
     "shell.execute_reply": "2022-04-28T16:54:02.726961Z"
    },
    "papermill": {
     "duration": 0.074047,
     "end_time": "2022-04-28T16:54:02.729509",
     "exception": false,
     "start_time": "2022-04-28T16:54:02.655462",
     "status": "completed"
    },
    "tags": []
   },
   "outputs": [
    {
     "data": {
      "text/plain": [
       "PassengerId      0\n",
       "Pclass           0\n",
       "Name             0\n",
       "Sex              0\n",
       "Age             86\n",
       "SibSp            0\n",
       "Parch            0\n",
       "Ticket           0\n",
       "Fare             1\n",
       "Cabin          327\n",
       "Embarked         0\n",
       "dtype: int64"
      ]
     },
     "execution_count": 25,
     "metadata": {},
     "output_type": "execute_result"
    }
   ],
   "source": [
    "test_data.isnull().sum()"
   ]
  },
  {
   "cell_type": "code",
   "execution_count": 26,
   "id": "c346dd7a",
   "metadata": {
    "execution": {
     "iopub.execute_input": "2022-04-28T16:54:02.857537Z",
     "iopub.status.busy": "2022-04-28T16:54:02.856978Z",
     "iopub.status.idle": "2022-04-28T16:54:02.871918Z",
     "shell.execute_reply": "2022-04-28T16:54:02.871332Z"
    },
    "papermill": {
     "duration": 0.081303,
     "end_time": "2022-04-28T16:54:02.873976",
     "exception": false,
     "start_time": "2022-04-28T16:54:02.792673",
     "status": "completed"
    },
    "tags": []
   },
   "outputs": [
    {
     "data": {
      "text/plain": [
       "PassengerId      0\n",
       "Pclass           0\n",
       "Name             0\n",
       "Sex              0\n",
       "Age              0\n",
       "SibSp            0\n",
       "Parch            0\n",
       "Ticket           0\n",
       "Fare             0\n",
       "Cabin          327\n",
       "Embarked         0\n",
       "dtype: int64"
      ]
     },
     "execution_count": 26,
     "metadata": {},
     "output_type": "execute_result"
    }
   ],
   "source": [
    "# Replacing missing values of age column\n",
    "mean = test_data[\"Age\"].mean()\n",
    "std = test_data[\"Age\"].std()\n",
    "rand_age = np.random.randint(mean-std, mean+std, size = 86)\n",
    "age_slice = test_data[\"Age\"].copy()\n",
    "age_slice[np.isnan(age_slice)] = rand_age\n",
    "test_data[\"Age\"] = age_slice\n",
    "\n",
    "# Replacing missing value of Fare column\n",
    "test_data['Fare'].fillna(test_data['Fare'].mean(), inplace=True)\n",
    "\n",
    "test_data.isnull().sum()"
   ]
  },
  {
   "cell_type": "code",
   "execution_count": 27,
   "id": "7c530a70",
   "metadata": {
    "execution": {
     "iopub.execute_input": "2022-04-28T16:54:03.033469Z",
     "iopub.status.busy": "2022-04-28T16:54:03.032937Z",
     "iopub.status.idle": "2022-04-28T16:54:03.048049Z",
     "shell.execute_reply": "2022-04-28T16:54:03.047348Z"
    },
    "papermill": {
     "duration": 0.097171,
     "end_time": "2022-04-28T16:54:03.049972",
     "exception": false,
     "start_time": "2022-04-28T16:54:02.952801",
     "status": "completed"
    },
    "tags": []
   },
   "outputs": [
    {
     "data": {
      "text/html": [
       "<div>\n",
       "<style scoped>\n",
       "    .dataframe tbody tr th:only-of-type {\n",
       "        vertical-align: middle;\n",
       "    }\n",
       "\n",
       "    .dataframe tbody tr th {\n",
       "        vertical-align: top;\n",
       "    }\n",
       "\n",
       "    .dataframe thead th {\n",
       "        text-align: right;\n",
       "    }\n",
       "</style>\n",
       "<table border=\"1\" class=\"dataframe\">\n",
       "  <thead>\n",
       "    <tr style=\"text-align: right;\">\n",
       "      <th></th>\n",
       "      <th>Pclass</th>\n",
       "      <th>Sex</th>\n",
       "      <th>Age</th>\n",
       "      <th>SibSp</th>\n",
       "      <th>Parch</th>\n",
       "      <th>Fare</th>\n",
       "      <th>Embarked</th>\n",
       "    </tr>\n",
       "  </thead>\n",
       "  <tbody>\n",
       "    <tr>\n",
       "      <th>0</th>\n",
       "      <td>3</td>\n",
       "      <td>male</td>\n",
       "      <td>34.5</td>\n",
       "      <td>0</td>\n",
       "      <td>0</td>\n",
       "      <td>7.8292</td>\n",
       "      <td>Q</td>\n",
       "    </tr>\n",
       "    <tr>\n",
       "      <th>1</th>\n",
       "      <td>3</td>\n",
       "      <td>female</td>\n",
       "      <td>47.0</td>\n",
       "      <td>1</td>\n",
       "      <td>0</td>\n",
       "      <td>7.0000</td>\n",
       "      <td>S</td>\n",
       "    </tr>\n",
       "    <tr>\n",
       "      <th>2</th>\n",
       "      <td>2</td>\n",
       "      <td>male</td>\n",
       "      <td>62.0</td>\n",
       "      <td>0</td>\n",
       "      <td>0</td>\n",
       "      <td>9.6875</td>\n",
       "      <td>Q</td>\n",
       "    </tr>\n",
       "    <tr>\n",
       "      <th>3</th>\n",
       "      <td>3</td>\n",
       "      <td>male</td>\n",
       "      <td>27.0</td>\n",
       "      <td>0</td>\n",
       "      <td>0</td>\n",
       "      <td>8.6625</td>\n",
       "      <td>S</td>\n",
       "    </tr>\n",
       "    <tr>\n",
       "      <th>4</th>\n",
       "      <td>3</td>\n",
       "      <td>female</td>\n",
       "      <td>22.0</td>\n",
       "      <td>1</td>\n",
       "      <td>1</td>\n",
       "      <td>12.2875</td>\n",
       "      <td>S</td>\n",
       "    </tr>\n",
       "    <tr>\n",
       "      <th>5</th>\n",
       "      <td>3</td>\n",
       "      <td>male</td>\n",
       "      <td>14.0</td>\n",
       "      <td>0</td>\n",
       "      <td>0</td>\n",
       "      <td>9.2250</td>\n",
       "      <td>S</td>\n",
       "    </tr>\n",
       "    <tr>\n",
       "      <th>6</th>\n",
       "      <td>3</td>\n",
       "      <td>female</td>\n",
       "      <td>30.0</td>\n",
       "      <td>0</td>\n",
       "      <td>0</td>\n",
       "      <td>7.6292</td>\n",
       "      <td>Q</td>\n",
       "    </tr>\n",
       "    <tr>\n",
       "      <th>7</th>\n",
       "      <td>2</td>\n",
       "      <td>male</td>\n",
       "      <td>26.0</td>\n",
       "      <td>1</td>\n",
       "      <td>1</td>\n",
       "      <td>29.0000</td>\n",
       "      <td>S</td>\n",
       "    </tr>\n",
       "    <tr>\n",
       "      <th>8</th>\n",
       "      <td>3</td>\n",
       "      <td>female</td>\n",
       "      <td>18.0</td>\n",
       "      <td>0</td>\n",
       "      <td>0</td>\n",
       "      <td>7.2292</td>\n",
       "      <td>C</td>\n",
       "    </tr>\n",
       "    <tr>\n",
       "      <th>9</th>\n",
       "      <td>3</td>\n",
       "      <td>male</td>\n",
       "      <td>21.0</td>\n",
       "      <td>2</td>\n",
       "      <td>0</td>\n",
       "      <td>24.1500</td>\n",
       "      <td>S</td>\n",
       "    </tr>\n",
       "  </tbody>\n",
       "</table>\n",
       "</div>"
      ],
      "text/plain": [
       "   Pclass     Sex   Age  SibSp  Parch     Fare Embarked\n",
       "0       3    male  34.5      0      0   7.8292        Q\n",
       "1       3  female  47.0      1      0   7.0000        S\n",
       "2       2    male  62.0      0      0   9.6875        Q\n",
       "3       3    male  27.0      0      0   8.6625        S\n",
       "4       3  female  22.0      1      1  12.2875        S\n",
       "5       3    male  14.0      0      0   9.2250        S\n",
       "6       3  female  30.0      0      0   7.6292        Q\n",
       "7       2    male  26.0      1      1  29.0000        S\n",
       "8       3  female  18.0      0      0   7.2292        C\n",
       "9       3    male  21.0      2      0  24.1500        S"
      ]
     },
     "execution_count": 27,
     "metadata": {},
     "output_type": "execute_result"
    }
   ],
   "source": [
    "col_to_drop = [\"PassengerId\", \"Ticket\", \"Cabin\", \"Name\"]\n",
    "test_data.drop(col_to_drop, axis=1, inplace=True)\n",
    "test_data.head(10)"
   ]
  },
  {
   "cell_type": "code",
   "execution_count": 28,
   "id": "93391117",
   "metadata": {
    "execution": {
     "iopub.execute_input": "2022-04-28T16:54:03.182979Z",
     "iopub.status.busy": "2022-04-28T16:54:03.182443Z",
     "iopub.status.idle": "2022-04-28T16:54:03.198080Z",
     "shell.execute_reply": "2022-04-28T16:54:03.197515Z"
    },
    "papermill": {
     "duration": 0.084362,
     "end_time": "2022-04-28T16:54:03.199910",
     "exception": false,
     "start_time": "2022-04-28T16:54:03.115548",
     "status": "completed"
    },
    "tags": []
   },
   "outputs": [
    {
     "data": {
      "text/html": [
       "<div>\n",
       "<style scoped>\n",
       "    .dataframe tbody tr th:only-of-type {\n",
       "        vertical-align: middle;\n",
       "    }\n",
       "\n",
       "    .dataframe tbody tr th {\n",
       "        vertical-align: top;\n",
       "    }\n",
       "\n",
       "    .dataframe thead th {\n",
       "        text-align: right;\n",
       "    }\n",
       "</style>\n",
       "<table border=\"1\" class=\"dataframe\">\n",
       "  <thead>\n",
       "    <tr style=\"text-align: right;\">\n",
       "      <th></th>\n",
       "      <th>Pclass</th>\n",
       "      <th>Sex</th>\n",
       "      <th>Age</th>\n",
       "      <th>SibSp</th>\n",
       "      <th>Parch</th>\n",
       "      <th>Fare</th>\n",
       "      <th>Embarked</th>\n",
       "    </tr>\n",
       "  </thead>\n",
       "  <tbody>\n",
       "    <tr>\n",
       "      <th>0</th>\n",
       "      <td>3</td>\n",
       "      <td>0</td>\n",
       "      <td>34.5</td>\n",
       "      <td>0</td>\n",
       "      <td>0</td>\n",
       "      <td>7.8292</td>\n",
       "      <td>2</td>\n",
       "    </tr>\n",
       "    <tr>\n",
       "      <th>1</th>\n",
       "      <td>3</td>\n",
       "      <td>1</td>\n",
       "      <td>47.0</td>\n",
       "      <td>1</td>\n",
       "      <td>0</td>\n",
       "      <td>7.0000</td>\n",
       "      <td>0</td>\n",
       "    </tr>\n",
       "    <tr>\n",
       "      <th>2</th>\n",
       "      <td>2</td>\n",
       "      <td>0</td>\n",
       "      <td>62.0</td>\n",
       "      <td>0</td>\n",
       "      <td>0</td>\n",
       "      <td>9.6875</td>\n",
       "      <td>2</td>\n",
       "    </tr>\n",
       "    <tr>\n",
       "      <th>3</th>\n",
       "      <td>3</td>\n",
       "      <td>0</td>\n",
       "      <td>27.0</td>\n",
       "      <td>0</td>\n",
       "      <td>0</td>\n",
       "      <td>8.6625</td>\n",
       "      <td>0</td>\n",
       "    </tr>\n",
       "    <tr>\n",
       "      <th>4</th>\n",
       "      <td>3</td>\n",
       "      <td>1</td>\n",
       "      <td>22.0</td>\n",
       "      <td>1</td>\n",
       "      <td>1</td>\n",
       "      <td>12.2875</td>\n",
       "      <td>0</td>\n",
       "    </tr>\n",
       "  </tbody>\n",
       "</table>\n",
       "</div>"
      ],
      "text/plain": [
       "   Pclass  Sex   Age  SibSp  Parch     Fare  Embarked\n",
       "0       3    0  34.5      0      0   7.8292         2\n",
       "1       3    1  47.0      1      0   7.0000         0\n",
       "2       2    0  62.0      0      0   9.6875         2\n",
       "3       3    0  27.0      0      0   8.6625         0\n",
       "4       3    1  22.0      1      1  12.2875         0"
      ]
     },
     "execution_count": 28,
     "metadata": {},
     "output_type": "execute_result"
    }
   ],
   "source": [
    "genders = {\"male\":0, \"female\":1}\n",
    "test_data[\"Sex\"] = test_data[\"Sex\"].map(genders)\n",
    "\n",
    "ports = {\"S\":0, \"C\":1, \"Q\":2}\n",
    "test_data[\"Embarked\"] = test_data[\"Embarked\"].map(ports)\n",
    "\n",
    "test_data.head()"
   ]
  },
  {
   "cell_type": "markdown",
   "id": "6a359ade",
   "metadata": {
    "papermill": {
     "duration": 0.064581,
     "end_time": "2022-04-28T16:54:03.329049",
     "exception": false,
     "start_time": "2022-04-28T16:54:03.264468",
     "status": "completed"
    },
    "tags": []
   },
   "source": [
    "# **MACHINE LEARNINIG PROJECT SUBMISSION**"
   ]
  },
  {
   "cell_type": "code",
   "execution_count": 29,
   "id": "ab004e29",
   "metadata": {
    "execution": {
     "iopub.execute_input": "2022-04-28T16:54:03.460496Z",
     "iopub.status.busy": "2022-04-28T16:54:03.459955Z",
     "iopub.status.idle": "2022-04-28T16:54:03.500737Z",
     "shell.execute_reply": "2022-04-28T16:54:03.499877Z"
    },
    "papermill": {
     "duration": 0.108818,
     "end_time": "2022-04-28T16:54:03.502771",
     "exception": false,
     "start_time": "2022-04-28T16:54:03.393953",
     "status": "completed"
    },
    "tags": []
   },
   "outputs": [
    {
     "data": {
      "text/html": [
       "<div>\n",
       "<style scoped>\n",
       "    .dataframe tbody tr th:only-of-type {\n",
       "        vertical-align: middle;\n",
       "    }\n",
       "\n",
       "    .dataframe tbody tr th {\n",
       "        vertical-align: top;\n",
       "    }\n",
       "\n",
       "    .dataframe thead th {\n",
       "        text-align: right;\n",
       "    }\n",
       "</style>\n",
       "<table border=\"1\" class=\"dataframe\">\n",
       "  <thead>\n",
       "    <tr style=\"text-align: right;\">\n",
       "      <th></th>\n",
       "      <th>PassengerId</th>\n",
       "      <th>Survived</th>\n",
       "    </tr>\n",
       "  </thead>\n",
       "  <tbody>\n",
       "    <tr>\n",
       "      <th>0</th>\n",
       "      <td>892</td>\n",
       "      <td>0</td>\n",
       "    </tr>\n",
       "    <tr>\n",
       "      <th>1</th>\n",
       "      <td>893</td>\n",
       "      <td>0</td>\n",
       "    </tr>\n",
       "    <tr>\n",
       "      <th>2</th>\n",
       "      <td>894</td>\n",
       "      <td>0</td>\n",
       "    </tr>\n",
       "    <tr>\n",
       "      <th>3</th>\n",
       "      <td>895</td>\n",
       "      <td>1</td>\n",
       "    </tr>\n",
       "    <tr>\n",
       "      <th>4</th>\n",
       "      <td>896</td>\n",
       "      <td>0</td>\n",
       "    </tr>\n",
       "    <tr>\n",
       "      <th>5</th>\n",
       "      <td>897</td>\n",
       "      <td>0</td>\n",
       "    </tr>\n",
       "    <tr>\n",
       "      <th>6</th>\n",
       "      <td>898</td>\n",
       "      <td>1</td>\n",
       "    </tr>\n",
       "    <tr>\n",
       "      <th>7</th>\n",
       "      <td>899</td>\n",
       "      <td>0</td>\n",
       "    </tr>\n",
       "    <tr>\n",
       "      <th>8</th>\n",
       "      <td>900</td>\n",
       "      <td>1</td>\n",
       "    </tr>\n",
       "    <tr>\n",
       "      <th>9</th>\n",
       "      <td>901</td>\n",
       "      <td>0</td>\n",
       "    </tr>\n",
       "    <tr>\n",
       "      <th>10</th>\n",
       "      <td>902</td>\n",
       "      <td>0</td>\n",
       "    </tr>\n",
       "    <tr>\n",
       "      <th>11</th>\n",
       "      <td>903</td>\n",
       "      <td>0</td>\n",
       "    </tr>\n",
       "    <tr>\n",
       "      <th>12</th>\n",
       "      <td>904</td>\n",
       "      <td>1</td>\n",
       "    </tr>\n",
       "    <tr>\n",
       "      <th>13</th>\n",
       "      <td>905</td>\n",
       "      <td>0</td>\n",
       "    </tr>\n",
       "    <tr>\n",
       "      <th>14</th>\n",
       "      <td>906</td>\n",
       "      <td>1</td>\n",
       "    </tr>\n",
       "    <tr>\n",
       "      <th>15</th>\n",
       "      <td>907</td>\n",
       "      <td>1</td>\n",
       "    </tr>\n",
       "    <tr>\n",
       "      <th>16</th>\n",
       "      <td>908</td>\n",
       "      <td>0</td>\n",
       "    </tr>\n",
       "    <tr>\n",
       "      <th>17</th>\n",
       "      <td>909</td>\n",
       "      <td>1</td>\n",
       "    </tr>\n",
       "    <tr>\n",
       "      <th>18</th>\n",
       "      <td>910</td>\n",
       "      <td>0</td>\n",
       "    </tr>\n",
       "    <tr>\n",
       "      <th>19</th>\n",
       "      <td>911</td>\n",
       "      <td>1</td>\n",
       "    </tr>\n",
       "  </tbody>\n",
       "</table>\n",
       "</div>"
      ],
      "text/plain": [
       "    PassengerId  Survived\n",
       "0           892         0\n",
       "1           893         0\n",
       "2           894         0\n",
       "3           895         1\n",
       "4           896         0\n",
       "5           897         0\n",
       "6           898         1\n",
       "7           899         0\n",
       "8           900         1\n",
       "9           901         0\n",
       "10          902         0\n",
       "11          903         0\n",
       "12          904         1\n",
       "13          905         0\n",
       "14          906         1\n",
       "15          907         1\n",
       "16          908         0\n",
       "17          909         1\n",
       "18          910         0\n",
       "19          911         1"
      ]
     },
     "execution_count": 29,
     "metadata": {},
     "output_type": "execute_result"
    }
   ],
   "source": [
    "x_test = test_data\n",
    "y_pred = model1.predict(x_test)\n",
    "originaltest_data = pd.read_csv('/kaggle/input/titanic/test.csv')\n",
    "\n",
    "submission = pd.DataFrame({\n",
    "        \"PassengerId\": originaltest_data[\"PassengerId\"],\n",
    "        \"Survived\": y_pred\n",
    "    })\n",
    "submission.head(20)"
   ]
  },
  {
   "cell_type": "markdown",
   "id": "3dc92095",
   "metadata": {
    "papermill": {
     "duration": 0.065189,
     "end_time": "2022-04-28T16:54:03.633655",
     "exception": false,
     "start_time": "2022-04-28T16:54:03.568466",
     "status": "completed"
    },
    "tags": []
   },
   "source": [
    "**Thankyou! If you like this article leave a comment “Nice article!” to motivate me. Keep learning, keep coding!**"
   ]
  }
 ],
 "metadata": {
  "kernelspec": {
   "display_name": "Python 3",
   "language": "python",
   "name": "python3"
  },
  "language_info": {
   "codemirror_mode": {
    "name": "ipython",
    "version": 3
   },
   "file_extension": ".py",
   "mimetype": "text/x-python",
   "name": "python",
   "nbconvert_exporter": "python",
   "pygments_lexer": "ipython3",
   "version": "3.7.12"
  },
  "papermill": {
   "default_parameters": {},
   "duration": 23.49764,
   "end_time": "2022-04-28T16:54:04.520509",
   "environment_variables": {},
   "exception": null,
   "input_path": "__notebook__.ipynb",
   "output_path": "__notebook__.ipynb",
   "parameters": {},
   "start_time": "2022-04-28T16:53:41.022869",
   "version": "2.3.4"
  }
 },
 "nbformat": 4,
 "nbformat_minor": 5
}
